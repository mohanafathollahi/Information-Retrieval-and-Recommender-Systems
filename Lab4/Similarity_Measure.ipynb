{
 "cells": [
  {
   "cell_type": "code",
   "execution_count": 5,
   "id": "bcdd103b",
   "metadata": {},
   "outputs": [],
   "source": [
    "from MRKmeansStep import MRKmeansStep\n",
    "import matplotlib.pyplot as plt\n",
    "import numpy as np"
   ]
  },
  {
   "cell_type": "code",
   "execution_count": 9,
   "id": "e40f75bb",
   "metadata": {},
   "outputs": [],
   "source": [
    "def get_jaccard(prot, doc):\n",
    "        \"\"\"\n",
    "        Compute here the Jaccard similarity between  a prototype and a document\n",
    "        prot should be a list of pairs (word, probability)\n",
    "        doc should be a list of words\n",
    "        Words must be alphabeticaly ordered\n",
    "\n",
    "        The result should be always a value in the range [0,1]\n",
    "        \"\"\"\n",
    "\n",
    "        # As words are alphabeticaly sorted we can sequentially\n",
    "        # scan the lists only once\n",
    "\n",
    "        document_list = []\n",
    "        prototype_list = []\n",
    "\n",
    "        # Indexes of the scan\n",
    "        d = 0\n",
    "        p = 0\n",
    "\n",
    "        while (d < len(doc) and p < len(prot)):\n",
    "            # Word in both document and prototype\n",
    "            if doc[d] == prot[p][0]:\n",
    "                document_list.append(1)\n",
    "                prototype_list.append(prot[p][1])\n",
    "                d += 1\n",
    "                p += 1\n",
    "            # Word in the document but not in the prototype\n",
    "            elif doc[d] < prot[p][0]:\n",
    "                document_list.append(1)\n",
    "                prototype_list.append(0)\n",
    "                d += 1\n",
    "            # Word in the prototype but not in the document\n",
    "            elif doc[d] > prot[p][0]:\n",
    "                document_list.append(0)\n",
    "                prototype_list.append(prot[p][1])\n",
    "                p += 1\n",
    "\n",
    "        # Input the missing part of the scan\n",
    "        if (p < len(prot)):\n",
    "            document_list.extend([0 for _ in prot[p:]])\n",
    "            prototype_list.extend([probability for word, probability in prot[p:]])\n",
    "        elif (d < len(doc)):\n",
    "            document_list.extend([1 for _ in doc[d:]])\n",
    "            prototype_list.extend([0 for _ in doc[d:]])\n",
    "\n",
    "        document_list = np.array(document_list)\n",
    "        prototype_list = np.array(prototype_list)\n",
    "\n",
    "        # Computing the jaccard similarity coefficient\n",
    "        jaccard_similarity = np.dot(document_list, prototype_list) / (sum(np.square(document_list)) + sum(np.square(prototype_list)) - np.dot(document_list, prototype_list))\n",
    "\n",
    "        return jaccard_similarity"
   ]
  },
  {
   "cell_type": "code",
   "execution_count": 10,
   "id": "934ae3e9",
   "metadata": {},
   "outputs": [],
   "source": [
    "def read_doc_words(dirname):\n",
    "    all_docs_words = {}\n",
    "    docPath = f'{dirname}/documents.txt'\n",
    "    f = open(docPath)\n",
    "    #seperate words and sort them and put in the list\n",
    "    for line in f:\n",
    "        doc, word_string = line.split(':')\n",
    "        words = word_string.split()\n",
    "        # sort words alphabetically                                                                                                                                                                        \n",
    "        words.sort()\n",
    "        all_docs_words[doc]=words\n",
    "    return all_docs_words\n",
    "    \n",
    "\n",
    "def get_assignment(assin_path):\n",
    "    assignments = {}\n",
    "\n",
    "    with open(assin_path, 'r') as assigment_file:\n",
    "        lines = assigment_file.readlines()\n",
    "\n",
    "        for line in lines:\n",
    "            kmeans_class, documents_string = line.split(':')\n",
    "            documents_list = documents_string.split(' ')\n",
    "\n",
    "            # remove the first item in the document list - it is a blank space\n",
    "            documents_list = documents_list[1:-1]\n",
    "            assignments[kmeans_class] = documents_list\n",
    "\n",
    "    return assignments\n",
    "\n",
    "\n",
    "def calc_docs_clust_sim(proto_path, assin_path, all_doc_words):\n",
    "    \n",
    "    assignments = get_assignment(assin_path)\n",
    "\n",
    "    prototypes = extract_clust_proto(proto_path)\n",
    "    clust_sim = {}\n",
    "#find similarity btween words in dictionary and all words\n",
    "    for prototype_id, prototype in prototypes.items():\n",
    "        \n",
    "        assert prototype_id in assignments.keys(), f'{prototype_id} should be in {assignments.keys()}'\n",
    "        #\n",
    "        doc_names = assignments[prototype_id]\n",
    "        print(f'{len(doc_names)} docs have been assigned to {prototype_id} cluster')\n",
    "        \n",
    "        cluster_sim = 0\n",
    "        for doc_name in doc_names:\n",
    "            words = all_doc_words[doc_name]\n",
    "            cluster_sim += get_jaccard(prototype, words)\n",
    "        clust_sim[prototype_id] = np.mean(np.array(cluster_sim))\n",
    "    \n",
    "    return clust_sim  \n",
    "\n",
    "#create a dictionary for different clusters and add their words as a value to that\n",
    "def extract_clust_proto(proto_path):\n",
    "    prototypes={}\n",
    "    f = open(proto_path, 'r')\n",
    "    for line in f:\n",
    "        cluster, words = line.split(':')\n",
    "        cp = []\n",
    "        for word in words.split():\n",
    "            cp.append((word.split('+')[0], float(word.split('+')[1])))\n",
    "            # sort the cps                                                                                                                                                             \n",
    "        cp.sort()\n",
    "        prototypes[cluster] = cp\n",
    "\n",
    "    return prototypes\n"
   ]
  },
  {
   "cell_type": "markdown",
   "id": "cdfcefff",
   "metadata": {},
   "source": [
    "### Considering 8,10 and 15 clusters and minfreq= 0.05 and maxfreq = 0.15 and 250 words"
   ]
  },
  {
   "cell_type": "code",
   "execution_count": 11,
   "id": "fbc6b00d",
   "metadata": {},
   "outputs": [
    {
     "name": "stdout",
     "output_type": "stream",
     "text": [
      "3228 docs have been assigned to CLASS0 cluster\n",
      "5171 docs have been assigned to CLASS1 cluster\n",
      "4960 docs have been assigned to CLASS6 cluster\n",
      "7958 docs have been assigned to CLASS7 cluster\n",
      "11908 docs have been assigned to CLASS4 cluster\n",
      "4704 docs have been assigned to CLASS5 cluster\n",
      "11980 docs have been assigned to CLASS2 cluster\n",
      "5843 docs have been assigned to CLASS3 cluster\n"
     ]
    }
   ],
   "source": [
    "dirname='./minfreq:0.05_maxfreq:0.15_numwords:250_ncores:8'\n",
    "proto_path = f'{dirname}/local_data/prototypes24.txt'\n",
    "assin_path = f'{dirname}/local_data/assignments23.txt'\n",
    "all_doc_words = read_doc_words(dirname)\n",
    "clust_sim_8= calc_docs_clust_sim(proto_path, assin_path, all_doc_words)\n"
   ]
  },
  {
   "cell_type": "code",
   "execution_count": 12,
   "id": "6684af90",
   "metadata": {},
   "outputs": [
    {
     "name": "stdout",
     "output_type": "stream",
     "text": [
      "5683 docs have been assigned to CLASS0 cluster\n",
      "2863 docs have been assigned to CLASS6 cluster\n",
      "4961 docs have been assigned to CLASS7 cluster\n",
      "3522 docs have been assigned to CLASS8 cluster\n",
      "5303 docs have been assigned to CLASS9 cluster\n",
      "2699 docs have been assigned to CLASS3 cluster\n",
      "11125 docs have been assigned to CLASS4 cluster\n",
      "4745 docs have been assigned to CLASS5 cluster\n",
      "3526 docs have been assigned to CLASS1 cluster\n",
      "11323 docs have been assigned to CLASS2 cluster\n"
     ]
    }
   ],
   "source": [
    "dirname='./minfreq:0.05_maxfreq:0.15_numwords:250_ncores:10'\n",
    "proto_path = f'{dirname}/local_data/prototypes24.txt'\n",
    "assin_path = f'{dirname}/local_data/assignments23.txt'\n",
    "all_doc_words = read_doc_words(dirname)\n",
    "clust_sim_10= calc_docs_clust_sim(proto_path, assin_path, all_doc_words)\n"
   ]
  },
  {
   "cell_type": "code",
   "execution_count": 13,
   "id": "d45038dd",
   "metadata": {},
   "outputs": [
    {
     "name": "stdout",
     "output_type": "stream",
     "text": [
      "2485 docs have been assigned to CLASS0 cluster\n",
      "3001 docs have been assigned to CLASS1 cluster\n",
      "2237 docs have been assigned to CLASS4 cluster\n",
      "2785 docs have been assigned to CLASS5 cluster\n",
      "4320 docs have been assigned to CLASS6 cluster\n",
      "2287 docs have been assigned to CLASS7 cluster\n",
      "3264 docs have been assigned to CLASS8 cluster\n",
      "2282 docs have been assigned to CLASS13 cluster\n",
      "9735 docs have been assigned to CLASS14 cluster\n",
      "1740 docs have been assigned to CLASS2 cluster\n",
      "3879 docs have been assigned to CLASS3 cluster\n",
      "1814 docs have been assigned to CLASS9 cluster\n",
      "9553 docs have been assigned to CLASS10 cluster\n",
      "3232 docs have been assigned to CLASS11 cluster\n",
      "3131 docs have been assigned to CLASS12 cluster\n"
     ]
    }
   ],
   "source": [
    "dirname='./minfreq:0.05_maxfreq:0.15_numwords:250_ncores:15'\n",
    "proto_path = f'{dirname}/local_data/prototypes24.txt'\n",
    "assin_path = f'{dirname}/local_data/assignments23.txt'\n",
    "all_doc_words = read_doc_words(dirname)\n",
    "clust_sim_15= calc_docs_clust_sim(proto_path, assin_path, all_doc_words)\n"
   ]
  },
  {
   "cell_type": "markdown",
   "id": "78b280ec",
   "metadata": {},
   "source": [
    "### Compare their perfomance"
   ]
  },
  {
   "cell_type": "code",
   "execution_count": 14,
   "id": "41fa203b",
   "metadata": {},
   "outputs": [
    {
     "name": "stdout",
     "output_type": "stream",
     "text": [
      "num of cluster :8, mean:964.037, mean:474.558852\n",
      "num of cluster :10, mean:796.463, mean:460.865398\n",
      "num of cluster :15, mean:559.623, mean:396.736680\n"
     ]
    },
    {
     "data": {
      "image/png": "[encoded data removed]",
      "text/plain": [
       "<Figure size 1200x400 with 3 Axes>"
      ]
     },
     "metadata": {},
     "output_type": "display_data"
    }
   ],
   "source": [
    "fig, axis = plt.subplots(1,3,sharex=False, sharey=True ,figsize=(12, 4))\n",
    "\n",
    "cluster_id_8 = np.arange(len(clust_sim_8))\n",
    "axis[0].bar(cluster_id_8, clust_sim_8.values())\n",
    "vals_8 = np.array(list(clust_sim_8.values()))\n",
    "axis[0].set_title(f'num of cluster :{len(clust_sim_8)}')\n",
    "axis[0].set(ylabel='similarity btw docs & proto')\n",
    "\n",
    "cluster_id_10 = np.arange(len(clust_sim_10))\n",
    "axis[1].bar(cluster_id_10, clust_sim_10.values(),color = 'green')\n",
    "vals_10 = np.array(list(clust_sim_10.values()))\n",
    "axis[1].set_title(f'num of cluster :{len(clust_sim_10)}')\n",
    "\n",
    "cluster_id_10 = np.arange(len(clust_sim_15))\n",
    "axis[2].bar(cluster_id_10, clust_sim_15.values(),color = 'red')\n",
    "vals_15 = np.array(list(clust_sim_15.values()))\n",
    "axis[2].set_title(f'num of cluster :{len(clust_sim_15)}')\n",
    "\n",
    "for ax in axis.flat:\n",
    "    ax.set(xlabel='cluster_ID')\n",
    "\n",
    "\n",
    "print(f'num of cluster :{len(clust_sim_8)}, mean:{np.mean(vals_8):.3f}, mean:{np.std(vals_8):2f}')\n",
    "print(f'num of cluster :{len(clust_sim_10)}, mean:{np.mean(vals_10):.3f}, mean:{np.std(vals_10):2f}')\n",
    "print(f'num of cluster :{len(clust_sim_15)}, mean:{np.mean(vals_15):.3f}, mean:{np.std(vals_15):2f}')\n",
    "\n"
   ]
  },
  {
   "cell_type": "markdown",
   "id": "45a9dc58",
   "metadata": {},
   "source": [
    "### Considering 8,10 and 15 clusters and minfreq= 0.05 and maxfreq = 0.15 and 100 words"
   ]
  },
  {
   "cell_type": "code",
   "execution_count": 15,
   "id": "793337c2",
   "metadata": {},
   "outputs": [
    {
     "name": "stdout",
     "output_type": "stream",
     "text": [
      "8464 docs have been assigned to CLASS0 cluster\n",
      "5145 docs have been assigned to CLASS5 cluster\n",
      "6040 docs have been assigned to CLASS6 cluster\n",
      "4827 docs have been assigned to CLASS7 cluster\n",
      "13500 docs have been assigned to CLASS3 cluster\n",
      "5953 docs have been assigned to CLASS4 cluster\n",
      "4848 docs have been assigned to CLASS1 cluster\n",
      "6975 docs have been assigned to CLASS2 cluster\n"
     ]
    }
   ],
   "source": [
    "dirname='./minfreq:0.05_maxfreq:0.15_numwords:100_ncores:8'\n",
    "proto_path = f'{dirname}/local_data/prototypes24.txt'\n",
    "assin_path = f'{dirname}/local_data/assignments23.txt'\n",
    "all_doc_words = read_doc_words(dirname)\n",
    "clust_sim_8_100= calc_docs_clust_sim(proto_path, assin_path, all_doc_words)\n"
   ]
  },
  {
   "cell_type": "code",
   "execution_count": 16,
   "id": "9bf0b0d0",
   "metadata": {},
   "outputs": [
    {
     "name": "stdout",
     "output_type": "stream",
     "text": [
      "10641 docs have been assigned to CLASS0 cluster\n",
      "5374 docs have been assigned to CLASS5 cluster\n",
      "4324 docs have been assigned to CLASS6 cluster\n",
      "8687 docs have been assigned to CLASS7 cluster\n",
      "4265 docs have been assigned to CLASS3 cluster\n",
      "5109 docs have been assigned to CLASS4 cluster\n",
      "3886 docs have been assigned to CLASS8 cluster\n",
      "4206 docs have been assigned to CLASS9 cluster\n",
      "4667 docs have been assigned to CLASS1 cluster\n",
      "4591 docs have been assigned to CLASS2 cluster\n"
     ]
    }
   ],
   "source": [
    "dirname='./minfreq:0.05_maxfreq:0.15_numwords:100_ncores:10'\n",
    "proto_path = f'{dirname}/local_data/prototypes24.txt'\n",
    "assin_path = f'{dirname}/local_data/assignments23.txt'\n",
    "all_doc_words = read_doc_words(dirname)\n",
    "clust_sim_10_100= calc_docs_clust_sim(proto_path, assin_path, all_doc_words)\n"
   ]
  },
  {
   "cell_type": "code",
   "execution_count": 17,
   "id": "8bcc5751",
   "metadata": {},
   "outputs": [
    {
     "name": "stdout",
     "output_type": "stream",
     "text": [
      "2623 docs have been assigned to CLASS0 cluster\n",
      "1958 docs have been assigned to CLASS1 cluster\n",
      "6700 docs have been assigned to CLASS5 cluster\n",
      "3130 docs have been assigned to CLASS6 cluster\n",
      "2109 docs have been assigned to CLASS7 cluster\n",
      "3057 docs have been assigned to CLASS8 cluster\n",
      "2275 docs have been assigned to CLASS9 cluster\n",
      "2696 docs have been assigned to CLASS14 cluster\n",
      "4803 docs have been assigned to CLASS2 cluster\n",
      "3770 docs have been assigned to CLASS3 cluster\n",
      "4246 docs have been assigned to CLASS4 cluster\n",
      "2762 docs have been assigned to CLASS10 cluster\n",
      "4123 docs have been assigned to CLASS11 cluster\n",
      "3179 docs have been assigned to CLASS12 cluster\n",
      "8314 docs have been assigned to CLASS13 cluster\n"
     ]
    }
   ],
   "source": [
    "dirname='./minfreq:0.05_maxfreq:0.15_numwords:100_ncores:15'\n",
    "proto_path = f'{dirname}/local_data/prototypes24.txt'\n",
    "assin_path = f'{dirname}/local_data/assignments23.txt'\n",
    "all_doc_words = read_doc_words(dirname)\n",
    "clust_sim_15_100= calc_docs_clust_sim(proto_path, assin_path, all_doc_words)\n"
   ]
  },
  {
   "cell_type": "code",
   "execution_count": 18,
   "id": "5120c6cc",
   "metadata": {},
   "outputs": [
    {
     "name": "stdout",
     "output_type": "stream",
     "text": [
      "num of cluster :8, mean:1217.747, mean:493.277824\n",
      "num of cluster :10, mean:1022.392, mean:411.404824\n",
      "num of cluster :15, mean:739.356, mean:379.831107\n"
     ]
    },
    {
     "data": {
      "image/png": "[encoded data removed]",
      "text/plain": [
       "<Figure size 1200x400 with 3 Axes>"
      ]
     },
     "metadata": {},
     "output_type": "display_data"
    }
   ],
   "source": [
    "fig, axis = plt.subplots(1,3,sharex=False, sharey=True ,figsize=(12, 4))\n",
    "\n",
    "cluster_id = np.arange(len(clust_sim_8_100))\n",
    "axis[0].bar(cluster_id, clust_sim_8_100.values(),color =\"blue\")\n",
    "vals_8_100 = np.array(list(clust_sim_8_100.values()))\n",
    "axis[0].set_title(f'num of cluster :{len(clust_sim_8_100)}')\n",
    "\n",
    "cluster_id = np.arange(len(clust_sim_10_100))\n",
    "axis[1].bar(cluster_id, clust_sim_10_100.values(),color =\"green\")\n",
    "vals_10_100 = np.array(list(clust_sim_10_100.values()))\n",
    "axis[1].set_title(f'num of cluster :{len(clust_sim_10_100)}')\n",
    "\n",
    "cluster_id = np.arange(len(clust_sim_15_100))\n",
    "axis[2].bar(cluster_id, clust_sim_15_100.values(),color ='red')\n",
    "vals_15_100 = np.array(list(clust_sim_15_100.values()))\n",
    "axis[2].set_title(f'num of cluster :{len(clust_sim_15_100)}')\n",
    "axis[0].set(ylabel='similarity btw docs & proto')\n",
    "\n",
    "for ax in axis.flat:\n",
    "    ax.set(xlabel='cluster_ID')\n",
    "print(f'num of cluster :{len(clust_sim_8_100)}, mean:{np.mean(vals_8_100):.3f}, mean:{np.std(vals_8_100):2f}')\n",
    "print(f'num of cluster :{len(clust_sim_10_100)}, mean:{np.mean(vals_10_100):.3f}, mean:{np.std(vals_10_100):2f}')\n",
    "print(f'num of cluster :{len(clust_sim_15_100)}, mean:{np.mean(vals_15_100):.3f}, mean:{np.std(vals_15_100):2f}')\n"
   ]
  }
 ],
 "metadata": {
  "kernelspec": {
   "display_name": "Python 3 (ipykernel)",
   "language": "python",
   "name": "python3"
  },
  "language_info": {
   "codemirror_mode": {
    "name": "ipython",
    "version": 3
   },
   "file_extension": ".py",
   "mimetype": "text/x-python",
   "name": "python",
   "nbconvert_exporter": "python",
   "pygments_lexer": "ipython3",
   "version": "3.8.10"
  }
 },
 "nbformat": 4,
 "nbformat_minor": 5
}
