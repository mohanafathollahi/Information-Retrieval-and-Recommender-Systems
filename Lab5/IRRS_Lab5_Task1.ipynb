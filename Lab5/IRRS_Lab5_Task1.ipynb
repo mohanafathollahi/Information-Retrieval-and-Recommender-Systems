{
  "nbformat": 4,
  "nbformat_minor": 0,
  "metadata": {
    "colab": {
      "provenance": [],
      "authorship_tag": "ABX9TyMe2/4or40GENhWn1Ed9WYj",
      "include_colab_link": true
    },
    "kernelspec": {
      "name": "python3",
      "display_name": "Python 3"
    },
    "language_info": {
      "name": "python"
    }
  },
  "cells": [
    {
      "cell_type": "markdown",
      "metadata": {
        "id": "view-in-github",
        "colab_type": "text"
      },
      "source": [
        "<a href=\"https://colab.research.google.com/github/mohanafathollahi/lab5_IRRS/blob/main/IRRS_Lab5_Task1.ipynb\" target=\"_parent\"><img src=\"https://colab.research.google.com/assets/colab-badge.svg\" alt=\"Open In Colab\"/></a>"
      ]
    },
    {
      "cell_type": "markdown",
      "source": [
        "General Networkx documentation: https://networkx.org/documentation/stable/reference/introduction.html"
      ],
      "metadata": {
        "id": "JjB_F8uRpCa5"
      }
    },
    {
      "cell_type": "code",
      "execution_count": 1,
      "metadata": {
        "id": "8tJ3FYS1CKlx"
      },
      "outputs": [],
      "source": [
        "import numpy as np\n",
        "import networkx as nx\n",
        "import matplotlib.pyplot as plt"
      ]
    },
    {
      "cell_type": "markdown",
      "source": [
        "\n",
        "In this first section, your task is to do two of the three following alternatives:\n",
        "\n",
        "1. Plot the clustering coefficient and the average shortest-path as a function of the parameter p of the WS model.\n",
        "2. Plot the average shortest-path length as a function of the network size of the ER model.\n",
        "3. Plot a histogram of the degree distribution of a BA network. What distribution does\n",
        "this follow? Can you describe it"
      ],
      "metadata": {
        "id": "J0TCEauoDIY6"
      }
    },
    {
      "cell_type": "markdown",
      "source": [
        "## WS Model\n",
        "References:\n",
        "* Wikipedia Watts-Strogatz model: https://en.wikipedia.org/wiki/Watts%E2%80%93Strogatz_model\n",
        "* Networkx watts_strogatz_graph generator: https://networkx.org/documentation/stable/reference/generated/networkx.generators.random_graphs.watts_strogatz_graph.html\n",
        "* Networkx clustering: https://networkx.org/documentation/stable/reference/algorithms/generated/networkx.algorithms.cluster.clustering.html\n",
        "* Networkx average_clustering: https://networkx.org/documentation/stable/reference/algorithms/generated/networkx.algorithms.approximation.clustering_coefficient.average_clustering.html\n",
        "* Networkx average_shortest_path_length: https://networkx.org/documentation/stable/reference/algorithms/generated/networkx.algorithms.shortest_paths.generic.average_shortest_path_length.html"
      ],
      "metadata": {
        "id": "lp3XLK4kDYA1"
      }
    },
    {
      "cell_type": "code",
      "source": [
        "\n",
        "def Simulations_WS(n, k, p_array, seeds):\n",
        "  \"\"\"\n",
        "  Runs simulations on the Watts-Strogatz graph using the defined \n",
        "  initial parameters for graph generation.\n",
        "  n: the number of nodes\n",
        "  k: each node is joined with k nearest neighbors in ring topology\n",
        "  p_array: an array of probabilities to use for rewiring during graph generation\n",
        "  seeds: a list of random seeds where the length is the number of simulations\n",
        "  \n",
        "  Returns the average shortest path and average clustering coefficient for each\n",
        "  probability across all simulations.\n",
        "  \"\"\"\n",
        "  simulations_clust = []\n",
        "  simulations_path = []\n",
        "  for seed in seeds:\n",
        "    clust_p = []\n",
        "    path_p = []\n",
        "    for p in p_array:\n",
        "      G = nx.watts_strogatz_graph(n, k, p, seed=seed)\n",
        "      clust_p.append(nx.average_clustering(G))\n",
        "      path_p.append(nx.average_shortest_path_length(G))\n",
        "    simulations_clust.append(clust_p)\n",
        "    simulations_path.append(path_p)\n",
        "  # convert the lists of simulation results to np arrays\n",
        "  simulations_clust_np =np.array([np.array(sim) for sim in simulations_clust])\n",
        "  simulations_path_np =np.array([np.array(sim) for sim in simulations_path])\n",
        "  # compute the mean of each probability across simulations\n",
        "  average_path = simulations_path_np.mean(axis=0)\n",
        "  average_clust = simulations_clust_np.mean(axis=0)\n",
        "  return average_path, average_clust"
      ],
      "metadata": {
        "id": "TACZ1u2bIwDl"
      },
      "execution_count": null,
      "outputs": []
    },
    {
      "cell_type": "markdown",
      "source": [
        "Random graphs require many simulations to be averaged in order to draw conclusions about the properties."
      ],
      "metadata": {
        "id": "HKfhA97jlPvW"
      }
    },
    {
      "cell_type": "code",
      "source": [
        "# creating the array of probabilities to test\n",
        "p_array = np.geomspace(0.0001,1,15)\n",
        "p_array = np.insert(p_array, 0, 0)\n",
        "# creating seeds for 20 simulations\n",
        "seeds = list(range(1,21))\n",
        "n = 1000\n",
        "k = 4"
      ],
      "metadata": {
        "id": "6PUe_WH-Ltb4"
      },
      "execution_count": null,
      "outputs": []
    },
    {
      "cell_type": "code",
      "source": [
        "# this takes around 8 minutes with 20 simulations\n",
        "average_path, average_clust = Simulations_WS(n,k,p_array, seeds)"
      ],
      "metadata": {
        "id": "WC8JcMZkN8I0"
      },
      "execution_count": null,
      "outputs": []
    },
    {
      "cell_type": "code",
      "source": [
        "clust_p_scaled = average_clust/average_clust[0]\n",
        "path_p_scaled = average_path/average_path[0]"
      ],
      "metadata": {
        "id": "pcS52mP-MREz"
      },
      "execution_count": null,
      "outputs": []
    },
    {
      "cell_type": "code",
      "source": [
        "f = plt.figure()\n",
        "f.set_figwidth(9)\n",
        "f.set_figheight(5.5)\n",
        "plt.scatter(x=p_array, y=path_p_scaled, marker=6, s=50)\n",
        "plt.scatter(x=p_array, y=clust_p_scaled, marker=7, s=50)\n",
        "plt.suptitle('Watts-Strogatz Model', size=18)\n",
        "plt.title('normalized metrics vs. W-S parameter p', size=14)\n",
        "plt.xlabel('rewiring probability p (log scale)', size=12)\n",
        "plt.ylabel('normalized metric', size=12)\n",
        "plt.xscale('log')\n",
        "plt.xlim([.00008, 1.2])\n",
        "plt.legend(labels=['avg. shortest path', 'clustering coeff.'], loc='lower left',prop={'size': 12})\n",
        "plt.show()\n",
        "f.savefig(fname='WS_plot.png', format='png')"
      ],
      "metadata": {
        "colab": {
          "base_uri": "https://localhost:8080/",
          "height": 407
        },
        "id": "DpT9ZSnoZlZw",
        "outputId": "1bf5f2fb-157e-4616-9713-6d8698e1a3b5"
      },
      "execution_count": null,
      "outputs": [
        {
          "output_type": "display_data",
          "data": {
            "text/plain": [
              "<Figure size 648x396 with 1 Axes>"
            ],
            "image/png": "[encoded data removed]"
          },
          "metadata": {
            "needs_background": "light"
          }
        }
      ]
    },
    {
      "cell_type": "markdown",
      "source": [
        "## ER Model\n",
        "\n",
        "References:\n",
        "* Networkx Erdos-Renyi Generator https://networkx.org/documentation/stable/reference/generated/networkx.generators.random_graphs.erdos_renyi_graph.html\n",
        "* Wikipedia Erdos-Renyi graph https://en.wikipedia.org/wiki/Erd%C5%91s%E2%80%93R%C3%A9nyi_model\n",
        "* Networkx average_shortest_path_length: https://networkx.org/documentation/stable/reference/algorithms/generated/networkx.algorithms.shortest_paths.generic.average_shortest_path_length.html\n",
        "\n",
        "We need $\\epsilon = 0.6$ in order for the graph to be connected with all seeds 1-10 with a graph of 100 nodes."
      ],
      "metadata": {
        "id": "GFisH_dNDgZb"
      }
    },
    {
      "cell_type": "code",
      "source": [
        "def Simulations_ER(n, seeds):\n",
        "  \"\"\"\n",
        "  Runs simulations on the Erdos-Renyi graph using the defined \n",
        "  initial parameters for graph generation.\n",
        "  n: the number of nodes for the graph\n",
        "  seeds: a list of random seeds where the length is the number of simulations  \n",
        "  Returns the average shortest path for each graph size across all simulations.\n",
        "  \"\"\"\n",
        "  simulations_path = []\n",
        "  for seed in seeds:\n",
        "    #path_n = []\n",
        "    #for n in n_array:\n",
        "    epsilon = .6\n",
        "    p = ((1+epsilon)*np.log(n))/n\n",
        "    G = nx.erdos_renyi_graph(n, p, seed=seed, directed=False)\n",
        "    if nx.is_connected(G):\n",
        "      path_n = nx.average_shortest_path_length(G)\n",
        "      #path_n.append(nx.average_shortest_path_length(G))\n",
        "      simulations_path.append(path_n)\n",
        "    else:\n",
        "      print(str(G) + ' with seed', str(seed), 'is not connected.')\n",
        "  # convert the lists of simulation results to np arrays\n",
        "  simulations_path_np =np.array([np.array(sim) for sim in simulations_path])\n",
        "  # compute the mean of each probability across simulations\n",
        "  average_path = simulations_path_np.mean(axis=0)\n",
        "  return average_path"
      ],
      "metadata": {
        "id": "OGAcULrTiK0P"
      },
      "execution_count": 14,
      "outputs": []
    },
    {
      "cell_type": "code",
      "source": [
        "# creating the array of network sizes to test\n",
        "n_array = np.geomspace(50,40000,10)\n",
        "n_array = np.int_(np.round_(n_array,-1))\n",
        "n_array"
      ],
      "metadata": {
        "colab": {
          "base_uri": "https://localhost:8080/"
        },
        "id": "w2458QAoyFcl",
        "outputId": "bd159d11-6bac-46cd-a6cc-f742eae74e3c"
      },
      "execution_count": 15,
      "outputs": [
        {
          "output_type": "execute_result",
          "data": {
            "text/plain": [
              "array([   50,   110,   220,   460,   980,  2050,  4310,  9060, 19030,\n",
              "       40000])"
            ]
          },
          "metadata": {},
          "execution_count": 15
        }
      ]
    },
    {
      "cell_type": "code",
      "source": [
        "# creating x and y vectors for  plotting later\n",
        "x=[]\n",
        "y=[]"
      ],
      "metadata": {
        "id": "aW9uqVEOhl73"
      },
      "execution_count": 16,
      "outputs": []
    },
    {
      "cell_type": "code",
      "source": [
        "n = 50\n",
        "seeds = list(range(1,11))\n",
        "average_path = Simulations_ER(n, seeds)\n",
        "x.append(n)\n",
        "y.append(average_path)"
      ],
      "metadata": {
        "colab": {
          "base_uri": "https://localhost:8080/"
        },
        "id": "KJi7-PlItH_e",
        "outputId": "b04bd2fe-886a-41fe-f753-98fb02d013ff"
      },
      "execution_count": 17,
      "outputs": [
        {
          "output_type": "stream",
          "name": "stdout",
          "text": [
            "Graph with 50 nodes and 151 edges with seed 4 is not connected.\n"
          ]
        }
      ]
    },
    {
      "cell_type": "code",
      "source": [
        "n = 110\n",
        "seeds = list(range(1,11))\n",
        "average_path = Simulations_ER(n, seeds)\n",
        "x.append(n)\n",
        "y.append(average_path)"
      ],
      "metadata": {
        "id": "-g1qBaGD0HWk"
      },
      "execution_count": 18,
      "outputs": []
    },
    {
      "cell_type": "code",
      "source": [
        "n = 220\n",
        "seeds = list(range(1,11))\n",
        "average_path = Simulations_ER(n, seeds)\n",
        "x.append(n)\n",
        "y.append(average_path)"
      ],
      "metadata": {
        "id": "aQy9iHk304kT"
      },
      "execution_count": 19,
      "outputs": []
    },
    {
      "cell_type": "code",
      "source": [
        "n = 460\n",
        "seeds = list(range(1,11))\n",
        "average_path = Simulations_ER(n, seeds)\n",
        "x.append(n)\n",
        "y.append(average_path)"
      ],
      "metadata": {
        "id": "WJwIL7UE093l"
      },
      "execution_count": 20,
      "outputs": []
    },
    {
      "cell_type": "code",
      "source": [
        "n = 980\n",
        "seeds = list(range(1,11))\n",
        "# 13 seconds to run 10 simulations\n",
        "average_path = Simulations_ER(n, seeds)\n",
        "x.append(n)\n",
        "y.append(average_path)"
      ],
      "metadata": {
        "id": "bRRKX0bm1E3A"
      },
      "execution_count": 21,
      "outputs": []
    },
    {
      "cell_type": "code",
      "source": [
        "n = 2050\n",
        "seeds = list(range(1,11))\n",
        "# 1 minute to run 10 simulations\n",
        "average_path = Simulations_ER(n, seeds)\n",
        "x.append(n)\n",
        "y.append(average_path)"
      ],
      "metadata": {
        "id": "lm4xay_q1R4n"
      },
      "execution_count": 22,
      "outputs": []
    },
    {
      "cell_type": "code",
      "source": [
        "n = 4310\n",
        "seeds = list(range(1,6))\n",
        "# 3 minutes to run 5 simulations\n",
        "average_path = Simulations_ER(n, seeds)\n",
        "x.append(n)\n",
        "y.append(average_path)"
      ],
      "metadata": {
        "id": "eHhOven91sth"
      },
      "execution_count": 23,
      "outputs": []
    },
    {
      "cell_type": "code",
      "source": [
        "n = 9060\n",
        "seeds = list(range(1,3))\n",
        "# 6 minutes to run 2 simulations\n",
        "average_path = Simulations_ER(n, seeds)\n",
        "x.append(n)\n",
        "y.append(average_path)"
      ],
      "metadata": {
        "id": "xKnehrjLULGh"
      },
      "execution_count": 24,
      "outputs": []
    },
    {
      "cell_type": "code",
      "source": [
        "n = 19030\n",
        "seeds = list(range(1,2))\n",
        "# 13 minutes to run 1 simulation\n",
        "average_path = Simulations_ER(n, seeds)\n",
        "x.append(n)\n",
        "y.append(average_path)"
      ],
      "metadata": {
        "id": "TANeYpZ2lhdX"
      },
      "execution_count": 32,
      "outputs": []
    },
    {
      "cell_type": "code",
      "source": [
        "#n = 40000\n",
        "#seeds = list(range(1,2))\n",
        "## 40 minutes running and didn't finish\n",
        "#average_path_40k = Simulations_ER(n, seeds)\n",
        "#average_path_40k"
      ],
      "metadata": {
        "id": "i14cWDIWULR8"
      },
      "execution_count": 25,
      "outputs": []
    },
    {
      "cell_type": "code",
      "source": [
        "f = plt.figure()\n",
        "f.set_figwidth(9)\n",
        "f.set_figheight(5.5)\n",
        "plt.plot(x, y, '-o')\n",
        "plt.suptitle('Erdős–Rényi Model', size=18)\n",
        "plt.title('average shortest path vs. network size n', size=14)\n",
        "plt.xlabel('number of nodes', size=12)\n",
        "plt.ylabel('average shortest path', size=12)\n",
        "#plt.xscale('log')\n",
        "plt.xlim([-1000, 20000])\n",
        "plt.show()\n",
        "f.savefig(fname='ER_plot.png', format='png')"
      ],
      "metadata": {
        "colab": {
          "base_uri": "https://localhost:8080/",
          "height": 403
        },
        "id": "BDiwnBJFiWvU",
        "outputId": "ca80bb98-6925-434d-9486-7c634689c2c5"
      },
      "execution_count": 41,
      "outputs": [
        {
          "output_type": "display_data",
          "data": {
            "text/plain": [
              "<Figure size 648x396 with 1 Axes>"
            ],
            "image/png": "[encoded data removed]"
          },
          "metadata": {
            "needs_background": "light"
          }
        }
      ]
    }
  ]
}